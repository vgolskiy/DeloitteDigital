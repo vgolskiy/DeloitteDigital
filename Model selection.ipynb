{
 "cells": [
  {
   "cell_type": "markdown",
   "metadata": {},
   "source": [
    "# 1. Data upload and verification"
   ]
  },
  {
   "cell_type": "markdown",
   "metadata": {},
   "source": [
    "Import of all necessary libraries:"
   ]
  },
  {
   "cell_type": "code",
   "execution_count": 2,
   "metadata": {},
   "outputs": [],
   "source": [
    "import numpy as np\n",
    "import pandas as pd\n",
    "from sklearn.model_selection import train_test_split, cross_val_score, GridSearchCV\n",
    "from sklearn.metrics import roc_auc_score\n",
    "from sklearn.tree import DecisionTreeClassifier, export_graphviz\n",
    "from sklearn.linear_model import LogisticRegression\n",
    "from sklearn.neighbors import KNeighborsClassifier\n",
    "from sklearn.ensemble import RandomForestClassifier"
   ]
  },
  {
   "cell_type": "markdown",
   "metadata": {},
   "source": [
    "## 1.1. Training purpose data"
   ]
  },
  {
   "cell_type": "markdown",
   "metadata": {},
   "source": [
    "Data upload for model training purpose with cell execution time determination:"
   ]
  },
  {
   "cell_type": "code",
   "execution_count": 3,
   "metadata": {},
   "outputs": [
    {
     "name": "stdout",
     "output_type": "stream",
     "text": [
      "Wall time: 1min 32s\n"
     ]
    }
   ],
   "source": [
    "%%time\n",
    "train_df = pd.read_csv('valami_train.txt.gz', sep='\\t', header = None)"
   ]
  },
  {
   "cell_type": "markdown",
   "metadata": {},
   "source": [
    "Taking a look what's inside:"
   ]
  },
  {
   "cell_type": "code",
   "execution_count": 3,
   "metadata": {},
   "outputs": [
    {
     "data": {
      "text/html": [
       "<div>\n",
       "<style scoped>\n",
       "    .dataframe tbody tr th:only-of-type {\n",
       "        vertical-align: middle;\n",
       "    }\n",
       "\n",
       "    .dataframe tbody tr th {\n",
       "        vertical-align: top;\n",
       "    }\n",
       "\n",
       "    .dataframe thead th {\n",
       "        text-align: right;\n",
       "    }\n",
       "</style>\n",
       "<table border=\"1\" class=\"dataframe\">\n",
       "  <thead>\n",
       "    <tr style=\"text-align: right;\">\n",
       "      <th></th>\n",
       "      <th>0</th>\n",
       "      <th>1</th>\n",
       "      <th>2</th>\n",
       "      <th>3</th>\n",
       "      <th>4</th>\n",
       "      <th>5</th>\n",
       "      <th>6</th>\n",
       "      <th>7</th>\n",
       "      <th>8</th>\n",
       "      <th>9</th>\n",
       "      <th>...</th>\n",
       "      <th>729</th>\n",
       "      <th>730</th>\n",
       "      <th>731</th>\n",
       "      <th>732</th>\n",
       "      <th>733</th>\n",
       "      <th>734</th>\n",
       "      <th>735</th>\n",
       "      <th>736</th>\n",
       "      <th>737</th>\n",
       "      <th>738</th>\n",
       "    </tr>\n",
       "  </thead>\n",
       "  <tbody>\n",
       "    <tr>\n",
       "      <th>0</th>\n",
       "      <td>0</td>\n",
       "      <td>0.4286</td>\n",
       "      <td>0</td>\n",
       "      <td>1</td>\n",
       "      <td>0</td>\n",
       "      <td>0</td>\n",
       "      <td>0</td>\n",
       "      <td>0</td>\n",
       "      <td>0</td>\n",
       "      <td>0</td>\n",
       "      <td>...</td>\n",
       "      <td>0.8086</td>\n",
       "      <td>0.0020</td>\n",
       "      <td>0.3478</td>\n",
       "      <td>0.8450</td>\n",
       "      <td>0</td>\n",
       "      <td>0.7045</td>\n",
       "      <td>0</td>\n",
       "      <td>0.0101</td>\n",
       "      <td>0</td>\n",
       "      <td>0.0123</td>\n",
       "    </tr>\n",
       "    <tr>\n",
       "      <th>1</th>\n",
       "      <td>0</td>\n",
       "      <td>0.7143</td>\n",
       "      <td>0</td>\n",
       "      <td>1</td>\n",
       "      <td>0</td>\n",
       "      <td>0</td>\n",
       "      <td>0</td>\n",
       "      <td>0</td>\n",
       "      <td>0</td>\n",
       "      <td>0</td>\n",
       "      <td>...</td>\n",
       "      <td>0.9570</td>\n",
       "      <td>0.0020</td>\n",
       "      <td>0.5217</td>\n",
       "      <td>0.9441</td>\n",
       "      <td>0</td>\n",
       "      <td>0.8832</td>\n",
       "      <td>0</td>\n",
       "      <td>0.0074</td>\n",
       "      <td>0</td>\n",
       "      <td>0.0075</td>\n",
       "    </tr>\n",
       "    <tr>\n",
       "      <th>2</th>\n",
       "      <td>0</td>\n",
       "      <td>0.5000</td>\n",
       "      <td>0</td>\n",
       "      <td>1</td>\n",
       "      <td>0</td>\n",
       "      <td>0</td>\n",
       "      <td>0</td>\n",
       "      <td>0</td>\n",
       "      <td>0</td>\n",
       "      <td>0</td>\n",
       "      <td>...</td>\n",
       "      <td>0.8945</td>\n",
       "      <td>0.0020</td>\n",
       "      <td>0.2174</td>\n",
       "      <td>0.8883</td>\n",
       "      <td>0</td>\n",
       "      <td>0.7560</td>\n",
       "      <td>0</td>\n",
       "      <td>0.0018</td>\n",
       "      <td>0</td>\n",
       "      <td>0.0101</td>\n",
       "    </tr>\n",
       "    <tr>\n",
       "      <th>3</th>\n",
       "      <td>0</td>\n",
       "      <td>0.6429</td>\n",
       "      <td>0</td>\n",
       "      <td>0</td>\n",
       "      <td>0</td>\n",
       "      <td>1</td>\n",
       "      <td>0</td>\n",
       "      <td>0</td>\n",
       "      <td>0</td>\n",
       "      <td>0</td>\n",
       "      <td>...</td>\n",
       "      <td>0.9570</td>\n",
       "      <td>0.0011</td>\n",
       "      <td>0.5217</td>\n",
       "      <td>0.9243</td>\n",
       "      <td>0</td>\n",
       "      <td>0.8419</td>\n",
       "      <td>0</td>\n",
       "      <td>0.0064</td>\n",
       "      <td>0</td>\n",
       "      <td>0.0049</td>\n",
       "    </tr>\n",
       "    <tr>\n",
       "      <th>4</th>\n",
       "      <td>0</td>\n",
       "      <td>0.3571</td>\n",
       "      <td>0</td>\n",
       "      <td>1</td>\n",
       "      <td>0</td>\n",
       "      <td>0</td>\n",
       "      <td>0</td>\n",
       "      <td>0</td>\n",
       "      <td>0</td>\n",
       "      <td>0</td>\n",
       "      <td>...</td>\n",
       "      <td>0.9492</td>\n",
       "      <td>0.0025</td>\n",
       "      <td>0.4348</td>\n",
       "      <td>0.8450</td>\n",
       "      <td>0</td>\n",
       "      <td>0.7045</td>\n",
       "      <td>0</td>\n",
       "      <td>0.0101</td>\n",
       "      <td>0</td>\n",
       "      <td>0.0144</td>\n",
       "    </tr>\n",
       "  </tbody>\n",
       "</table>\n",
       "<p>5 rows × 739 columns</p>\n",
       "</div>"
      ],
      "text/plain": [
       "   0       1    2    3    4    5    6    7    8    9     ...       729  \\\n",
       "0    0  0.4286    0    1    0    0    0    0    0    0   ...    0.8086   \n",
       "1    0  0.7143    0    1    0    0    0    0    0    0   ...    0.9570   \n",
       "2    0  0.5000    0    1    0    0    0    0    0    0   ...    0.8945   \n",
       "3    0  0.6429    0    0    0    1    0    0    0    0   ...    0.9570   \n",
       "4    0  0.3571    0    1    0    0    0    0    0    0   ...    0.9492   \n",
       "\n",
       "      730     731     732  733     734  735     736  737     738  \n",
       "0  0.0020  0.3478  0.8450    0  0.7045    0  0.0101    0  0.0123  \n",
       "1  0.0020  0.5217  0.9441    0  0.8832    0  0.0074    0  0.0075  \n",
       "2  0.0020  0.2174  0.8883    0  0.7560    0  0.0018    0  0.0101  \n",
       "3  0.0011  0.5217  0.9243    0  0.8419    0  0.0064    0  0.0049  \n",
       "4  0.0025  0.4348  0.8450    0  0.7045    0  0.0101    0  0.0144  \n",
       "\n",
       "[5 rows x 739 columns]"
      ]
     },
     "execution_count": 3,
     "metadata": {},
     "output_type": "execute_result"
    }
   ],
   "source": [
    "train_df.head()"
   ]
  },
  {
   "cell_type": "markdown",
   "metadata": {},
   "source": [
    "Obtaining data frame size:"
   ]
  },
  {
   "cell_type": "code",
   "execution_count": 20,
   "metadata": {},
   "outputs": [
    {
     "data": {
      "text/plain": [
       "(190000, 739)"
      ]
     },
     "execution_count": 20,
     "metadata": {},
     "output_type": "execute_result"
    }
   ],
   "source": [
    "train_df.shape"
   ]
  },
  {
   "cell_type": "markdown",
   "metadata": {},
   "source": [
    "Classifier data - simple binary values:"
   ]
  },
  {
   "cell_type": "code",
   "execution_count": 36,
   "metadata": {},
   "outputs": [
    {
     "data": {
      "text/plain": [
       "array([0, 1], dtype=int64)"
      ]
     },
     "execution_count": 36,
     "metadata": {},
     "output_type": "execute_result"
    }
   ],
   "source": [
    "train_df[0].unique()"
   ]
  },
  {
   "cell_type": "markdown",
   "metadata": {},
   "source": [
    "Data verification for columns using DataFrame information function:\n",
    "data in all columns that we have are numeric"
   ]
  },
  {
   "cell_type": "code",
   "execution_count": 13,
   "metadata": {},
   "outputs": [
    {
     "name": "stdout",
     "output_type": "stream",
     "text": [
      "<class 'pandas.core.frame.DataFrame'>\n",
      "RangeIndex: 190000 entries, 0 to 189999\n",
      "Columns: 739 entries, 0 to 738\n",
      "dtypes: float64(325), int64(414)\n",
      "memory usage: 1.0 GB\n"
     ]
    }
   ],
   "source": [
    "train_df.info()"
   ]
  },
  {
   "cell_type": "markdown",
   "metadata": {},
   "source": [
    "Some general information about columns values (maybe will help us later):"
   ]
  },
  {
   "cell_type": "code",
   "execution_count": 38,
   "metadata": {},
   "outputs": [
    {
     "data": {
      "text/html": [
       "<div>\n",
       "<style scoped>\n",
       "    .dataframe tbody tr th:only-of-type {\n",
       "        vertical-align: middle;\n",
       "    }\n",
       "\n",
       "    .dataframe tbody tr th {\n",
       "        vertical-align: top;\n",
       "    }\n",
       "\n",
       "    .dataframe thead th {\n",
       "        text-align: right;\n",
       "    }\n",
       "</style>\n",
       "<table border=\"1\" class=\"dataframe\">\n",
       "  <thead>\n",
       "    <tr style=\"text-align: right;\">\n",
       "      <th></th>\n",
       "      <th>0</th>\n",
       "      <th>1</th>\n",
       "      <th>2</th>\n",
       "      <th>3</th>\n",
       "      <th>4</th>\n",
       "      <th>5</th>\n",
       "      <th>6</th>\n",
       "      <th>7</th>\n",
       "      <th>8</th>\n",
       "      <th>9</th>\n",
       "      <th>...</th>\n",
       "      <th>729</th>\n",
       "      <th>730</th>\n",
       "      <th>731</th>\n",
       "      <th>732</th>\n",
       "      <th>733</th>\n",
       "      <th>734</th>\n",
       "      <th>735</th>\n",
       "      <th>736</th>\n",
       "      <th>737</th>\n",
       "      <th>738</th>\n",
       "    </tr>\n",
       "  </thead>\n",
       "  <tbody>\n",
       "    <tr>\n",
       "      <th>count</th>\n",
       "      <td>190000.00000</td>\n",
       "      <td>190000.000000</td>\n",
       "      <td>190000.000000</td>\n",
       "      <td>190000.000000</td>\n",
       "      <td>190000.000000</td>\n",
       "      <td>190000.000000</td>\n",
       "      <td>190000.000000</td>\n",
       "      <td>190000.000000</td>\n",
       "      <td>190000.000000</td>\n",
       "      <td>190000.000000</td>\n",
       "      <td>...</td>\n",
       "      <td>190000.000000</td>\n",
       "      <td>190000.000000</td>\n",
       "      <td>190000.000000</td>\n",
       "      <td>190000.000000</td>\n",
       "      <td>190000.000000</td>\n",
       "      <td>190000.000000</td>\n",
       "      <td>190000.000000</td>\n",
       "      <td>190000.000000</td>\n",
       "      <td>190000.000000</td>\n",
       "      <td>190000.000000</td>\n",
       "    </tr>\n",
       "    <tr>\n",
       "      <th>mean</th>\n",
       "      <td>0.05080</td>\n",
       "      <td>0.600336</td>\n",
       "      <td>0.428968</td>\n",
       "      <td>0.269347</td>\n",
       "      <td>0.177968</td>\n",
       "      <td>0.086611</td>\n",
       "      <td>0.008789</td>\n",
       "      <td>0.019516</td>\n",
       "      <td>0.000158</td>\n",
       "      <td>0.003811</td>\n",
       "      <td>...</td>\n",
       "      <td>0.895043</td>\n",
       "      <td>0.001731</td>\n",
       "      <td>0.375561</td>\n",
       "      <td>0.903889</td>\n",
       "      <td>0.000021</td>\n",
       "      <td>0.704587</td>\n",
       "      <td>0.104526</td>\n",
       "      <td>0.006664</td>\n",
       "      <td>0.104526</td>\n",
       "      <td>0.012067</td>\n",
       "    </tr>\n",
       "    <tr>\n",
       "      <th>std</th>\n",
       "      <td>0.21959</td>\n",
       "      <td>0.245293</td>\n",
       "      <td>0.494930</td>\n",
       "      <td>0.443622</td>\n",
       "      <td>0.382487</td>\n",
       "      <td>0.281264</td>\n",
       "      <td>0.093340</td>\n",
       "      <td>0.138329</td>\n",
       "      <td>0.012565</td>\n",
       "      <td>0.061612</td>\n",
       "      <td>...</td>\n",
       "      <td>0.079869</td>\n",
       "      <td>0.001395</td>\n",
       "      <td>0.171971</td>\n",
       "      <td>0.067851</td>\n",
       "      <td>0.004588</td>\n",
       "      <td>0.266625</td>\n",
       "      <td>0.305943</td>\n",
       "      <td>0.007502</td>\n",
       "      <td>0.305943</td>\n",
       "      <td>0.010781</td>\n",
       "    </tr>\n",
       "    <tr>\n",
       "      <th>min</th>\n",
       "      <td>0.00000</td>\n",
       "      <td>0.029800</td>\n",
       "      <td>0.000000</td>\n",
       "      <td>0.000000</td>\n",
       "      <td>0.000000</td>\n",
       "      <td>0.000000</td>\n",
       "      <td>0.000000</td>\n",
       "      <td>0.000000</td>\n",
       "      <td>0.000000</td>\n",
       "      <td>0.000000</td>\n",
       "      <td>...</td>\n",
       "      <td>0.000000</td>\n",
       "      <td>0.000000</td>\n",
       "      <td>0.000000</td>\n",
       "      <td>0.000000</td>\n",
       "      <td>0.000000</td>\n",
       "      <td>0.000000</td>\n",
       "      <td>0.000000</td>\n",
       "      <td>0.000000</td>\n",
       "      <td>0.000000</td>\n",
       "      <td>0.000000</td>\n",
       "    </tr>\n",
       "    <tr>\n",
       "      <th>25%</th>\n",
       "      <td>0.00000</td>\n",
       "      <td>0.357100</td>\n",
       "      <td>0.000000</td>\n",
       "      <td>0.000000</td>\n",
       "      <td>0.000000</td>\n",
       "      <td>0.000000</td>\n",
       "      <td>0.000000</td>\n",
       "      <td>0.000000</td>\n",
       "      <td>0.000000</td>\n",
       "      <td>0.000000</td>\n",
       "      <td>...</td>\n",
       "      <td>0.886700</td>\n",
       "      <td>0.001000</td>\n",
       "      <td>0.260900</td>\n",
       "      <td>0.839600</td>\n",
       "      <td>0.000000</td>\n",
       "      <td>0.632300</td>\n",
       "      <td>0.000000</td>\n",
       "      <td>0.002800</td>\n",
       "      <td>0.000000</td>\n",
       "      <td>0.007100</td>\n",
       "    </tr>\n",
       "    <tr>\n",
       "      <th>50%</th>\n",
       "      <td>0.00000</td>\n",
       "      <td>0.642900</td>\n",
       "      <td>0.000000</td>\n",
       "      <td>0.000000</td>\n",
       "      <td>0.000000</td>\n",
       "      <td>0.000000</td>\n",
       "      <td>0.000000</td>\n",
       "      <td>0.000000</td>\n",
       "      <td>0.000000</td>\n",
       "      <td>0.000000</td>\n",
       "      <td>...</td>\n",
       "      <td>0.921900</td>\n",
       "      <td>0.001500</td>\n",
       "      <td>0.391300</td>\n",
       "      <td>0.909900</td>\n",
       "      <td>0.000000</td>\n",
       "      <td>0.780100</td>\n",
       "      <td>0.000000</td>\n",
       "      <td>0.005500</td>\n",
       "      <td>0.000000</td>\n",
       "      <td>0.010400</td>\n",
       "    </tr>\n",
       "    <tr>\n",
       "      <th>75%</th>\n",
       "      <td>0.00000</td>\n",
       "      <td>0.857100</td>\n",
       "      <td>1.000000</td>\n",
       "      <td>1.000000</td>\n",
       "      <td>0.000000</td>\n",
       "      <td>0.000000</td>\n",
       "      <td>0.000000</td>\n",
       "      <td>0.000000</td>\n",
       "      <td>0.000000</td>\n",
       "      <td>0.000000</td>\n",
       "      <td>...</td>\n",
       "      <td>0.945300</td>\n",
       "      <td>0.002000</td>\n",
       "      <td>0.478300</td>\n",
       "      <td>0.967600</td>\n",
       "      <td>0.000000</td>\n",
       "      <td>0.886600</td>\n",
       "      <td>0.000000</td>\n",
       "      <td>0.009200</td>\n",
       "      <td>0.000000</td>\n",
       "      <td>0.014200</td>\n",
       "    </tr>\n",
       "    <tr>\n",
       "      <th>max</th>\n",
       "      <td>1.00000</td>\n",
       "      <td>1.000000</td>\n",
       "      <td>1.000000</td>\n",
       "      <td>1.000000</td>\n",
       "      <td>1.000000</td>\n",
       "      <td>1.000000</td>\n",
       "      <td>1.000000</td>\n",
       "      <td>1.000000</td>\n",
       "      <td>1.000000</td>\n",
       "      <td>1.000000</td>\n",
       "      <td>...</td>\n",
       "      <td>1.000000</td>\n",
       "      <td>0.100000</td>\n",
       "      <td>1.000000</td>\n",
       "      <td>1.000000</td>\n",
       "      <td>1.000000</td>\n",
       "      <td>1.000000</td>\n",
       "      <td>1.000000</td>\n",
       "      <td>1.000000</td>\n",
       "      <td>1.000000</td>\n",
       "      <td>1.000000</td>\n",
       "    </tr>\n",
       "  </tbody>\n",
       "</table>\n",
       "<p>8 rows × 739 columns</p>\n",
       "</div>"
      ],
      "text/plain": [
       "                0              1              2              3    \\\n",
       "count  190000.00000  190000.000000  190000.000000  190000.000000   \n",
       "mean        0.05080       0.600336       0.428968       0.269347   \n",
       "std         0.21959       0.245293       0.494930       0.443622   \n",
       "min         0.00000       0.029800       0.000000       0.000000   \n",
       "25%         0.00000       0.357100       0.000000       0.000000   \n",
       "50%         0.00000       0.642900       0.000000       0.000000   \n",
       "75%         0.00000       0.857100       1.000000       1.000000   \n",
       "max         1.00000       1.000000       1.000000       1.000000   \n",
       "\n",
       "                 4              5              6              7    \\\n",
       "count  190000.000000  190000.000000  190000.000000  190000.000000   \n",
       "mean        0.177968       0.086611       0.008789       0.019516   \n",
       "std         0.382487       0.281264       0.093340       0.138329   \n",
       "min         0.000000       0.000000       0.000000       0.000000   \n",
       "25%         0.000000       0.000000       0.000000       0.000000   \n",
       "50%         0.000000       0.000000       0.000000       0.000000   \n",
       "75%         0.000000       0.000000       0.000000       0.000000   \n",
       "max         1.000000       1.000000       1.000000       1.000000   \n",
       "\n",
       "                 8              9        ...                  729  \\\n",
       "count  190000.000000  190000.000000      ...        190000.000000   \n",
       "mean        0.000158       0.003811      ...             0.895043   \n",
       "std         0.012565       0.061612      ...             0.079869   \n",
       "min         0.000000       0.000000      ...             0.000000   \n",
       "25%         0.000000       0.000000      ...             0.886700   \n",
       "50%         0.000000       0.000000      ...             0.921900   \n",
       "75%         0.000000       0.000000      ...             0.945300   \n",
       "max         1.000000       1.000000      ...             1.000000   \n",
       "\n",
       "                 730            731            732            733  \\\n",
       "count  190000.000000  190000.000000  190000.000000  190000.000000   \n",
       "mean        0.001731       0.375561       0.903889       0.000021   \n",
       "std         0.001395       0.171971       0.067851       0.004588   \n",
       "min         0.000000       0.000000       0.000000       0.000000   \n",
       "25%         0.001000       0.260900       0.839600       0.000000   \n",
       "50%         0.001500       0.391300       0.909900       0.000000   \n",
       "75%         0.002000       0.478300       0.967600       0.000000   \n",
       "max         0.100000       1.000000       1.000000       1.000000   \n",
       "\n",
       "                 734            735            736            737  \\\n",
       "count  190000.000000  190000.000000  190000.000000  190000.000000   \n",
       "mean        0.704587       0.104526       0.006664       0.104526   \n",
       "std         0.266625       0.305943       0.007502       0.305943   \n",
       "min         0.000000       0.000000       0.000000       0.000000   \n",
       "25%         0.632300       0.000000       0.002800       0.000000   \n",
       "50%         0.780100       0.000000       0.005500       0.000000   \n",
       "75%         0.886600       0.000000       0.009200       0.000000   \n",
       "max         1.000000       1.000000       1.000000       1.000000   \n",
       "\n",
       "                 738  \n",
       "count  190000.000000  \n",
       "mean        0.012067  \n",
       "std         0.010781  \n",
       "min         0.000000  \n",
       "25%         0.007100  \n",
       "50%         0.010400  \n",
       "75%         0.014200  \n",
       "max         1.000000  \n",
       "\n",
       "[8 rows x 739 columns]"
      ]
     },
     "execution_count": 38,
     "metadata": {},
     "output_type": "execute_result"
    }
   ],
   "source": [
    "train_df.describe(include='all')"
   ]
  },
  {
   "cell_type": "markdown",
   "metadata": {},
   "source": [
    "## 1.2. Testing purpose data"
   ]
  },
  {
   "cell_type": "markdown",
   "metadata": {},
   "source": [
    "Data upload for model testing purpose with cell execution time determination:"
   ]
  },
  {
   "cell_type": "code",
   "execution_count": 15,
   "metadata": {},
   "outputs": [
    {
     "name": "stdout",
     "output_type": "stream",
     "text": [
      "Wall time: 45.9 s\n"
     ]
    }
   ],
   "source": [
    "%%time\n",
    "test_df = pd.read_csv('valami_test.txt.gz', sep='\\t', header = None)"
   ]
  },
  {
   "cell_type": "markdown",
   "metadata": {},
   "source": [
    "Taking a look what's inside:"
   ]
  },
  {
   "cell_type": "code",
   "execution_count": 8,
   "metadata": {},
   "outputs": [
    {
     "data": {
      "text/html": [
       "<div>\n",
       "<style scoped>\n",
       "    .dataframe tbody tr th:only-of-type {\n",
       "        vertical-align: middle;\n",
       "    }\n",
       "\n",
       "    .dataframe tbody tr th {\n",
       "        vertical-align: top;\n",
       "    }\n",
       "\n",
       "    .dataframe thead th {\n",
       "        text-align: right;\n",
       "    }\n",
       "</style>\n",
       "<table border=\"1\" class=\"dataframe\">\n",
       "  <thead>\n",
       "    <tr style=\"text-align: right;\">\n",
       "      <th></th>\n",
       "      <th>0</th>\n",
       "      <th>1</th>\n",
       "      <th>2</th>\n",
       "      <th>3</th>\n",
       "      <th>4</th>\n",
       "      <th>5</th>\n",
       "      <th>6</th>\n",
       "      <th>7</th>\n",
       "      <th>8</th>\n",
       "      <th>9</th>\n",
       "      <th>...</th>\n",
       "      <th>729</th>\n",
       "      <th>730</th>\n",
       "      <th>731</th>\n",
       "      <th>732</th>\n",
       "      <th>733</th>\n",
       "      <th>734</th>\n",
       "      <th>735</th>\n",
       "      <th>736</th>\n",
       "      <th>737</th>\n",
       "      <th>738</th>\n",
       "    </tr>\n",
       "  </thead>\n",
       "  <tbody>\n",
       "    <tr>\n",
       "      <th>0</th>\n",
       "      <td>?</td>\n",
       "      <td>0.3571</td>\n",
       "      <td>0</td>\n",
       "      <td>0</td>\n",
       "      <td>1</td>\n",
       "      <td>0</td>\n",
       "      <td>0</td>\n",
       "      <td>0</td>\n",
       "      <td>0</td>\n",
       "      <td>0</td>\n",
       "      <td>...</td>\n",
       "      <td>0.9336</td>\n",
       "      <td>0.0014</td>\n",
       "      <td>0.4783</td>\n",
       "      <td>0.8378</td>\n",
       "      <td>0</td>\n",
       "      <td>0.6701</td>\n",
       "      <td>0</td>\n",
       "      <td>0.0046</td>\n",
       "      <td>0</td>\n",
       "      <td>0.0084</td>\n",
       "    </tr>\n",
       "    <tr>\n",
       "      <th>1</th>\n",
       "      <td>?</td>\n",
       "      <td>0.8571</td>\n",
       "      <td>0</td>\n",
       "      <td>0</td>\n",
       "      <td>0</td>\n",
       "      <td>1</td>\n",
       "      <td>0</td>\n",
       "      <td>0</td>\n",
       "      <td>0</td>\n",
       "      <td>0</td>\n",
       "      <td>...</td>\n",
       "      <td>0.9414</td>\n",
       "      <td>0.0015</td>\n",
       "      <td>0.3478</td>\n",
       "      <td>0.9784</td>\n",
       "      <td>0</td>\n",
       "      <td>0.9485</td>\n",
       "      <td>0</td>\n",
       "      <td>0.0074</td>\n",
       "      <td>0</td>\n",
       "      <td>0.0087</td>\n",
       "    </tr>\n",
       "    <tr>\n",
       "      <th>2</th>\n",
       "      <td>?</td>\n",
       "      <td>0.9286</td>\n",
       "      <td>0</td>\n",
       "      <td>0</td>\n",
       "      <td>1</td>\n",
       "      <td>0</td>\n",
       "      <td>0</td>\n",
       "      <td>0</td>\n",
       "      <td>0</td>\n",
       "      <td>0</td>\n",
       "      <td>...</td>\n",
       "      <td>0.9492</td>\n",
       "      <td>0.0020</td>\n",
       "      <td>0.4348</td>\n",
       "      <td>0.9964</td>\n",
       "      <td>0</td>\n",
       "      <td>0.0000</td>\n",
       "      <td>1</td>\n",
       "      <td>0.0000</td>\n",
       "      <td>1</td>\n",
       "      <td>0.0187</td>\n",
       "    </tr>\n",
       "    <tr>\n",
       "      <th>3</th>\n",
       "      <td>?</td>\n",
       "      <td>0.5714</td>\n",
       "      <td>0</td>\n",
       "      <td>0</td>\n",
       "      <td>0</td>\n",
       "      <td>1</td>\n",
       "      <td>0</td>\n",
       "      <td>0</td>\n",
       "      <td>0</td>\n",
       "      <td>0</td>\n",
       "      <td>...</td>\n",
       "      <td>0.9336</td>\n",
       "      <td>0.0017</td>\n",
       "      <td>0.2609</td>\n",
       "      <td>0.8919</td>\n",
       "      <td>0</td>\n",
       "      <td>0.7938</td>\n",
       "      <td>0</td>\n",
       "      <td>0.0101</td>\n",
       "      <td>0</td>\n",
       "      <td>0.0092</td>\n",
       "    </tr>\n",
       "    <tr>\n",
       "      <th>4</th>\n",
       "      <td>?</td>\n",
       "      <td>0.2143</td>\n",
       "      <td>0</td>\n",
       "      <td>0</td>\n",
       "      <td>1</td>\n",
       "      <td>0</td>\n",
       "      <td>0</td>\n",
       "      <td>0</td>\n",
       "      <td>0</td>\n",
       "      <td>0</td>\n",
       "      <td>...</td>\n",
       "      <td>0.9180</td>\n",
       "      <td>0.0025</td>\n",
       "      <td>0.8261</td>\n",
       "      <td>0.7928</td>\n",
       "      <td>0</td>\n",
       "      <td>0.5911</td>\n",
       "      <td>0</td>\n",
       "      <td>0.0064</td>\n",
       "      <td>0</td>\n",
       "      <td>0.0107</td>\n",
       "    </tr>\n",
       "  </tbody>\n",
       "</table>\n",
       "<p>5 rows × 739 columns</p>\n",
       "</div>"
      ],
      "text/plain": [
       "  0       1    2    3    4    5    6    7    8    9     ...       729     730  \\\n",
       "0   ?  0.3571    0    0    1    0    0    0    0    0   ...    0.9336  0.0014   \n",
       "1   ?  0.8571    0    0    0    1    0    0    0    0   ...    0.9414  0.0015   \n",
       "2   ?  0.9286    0    0    1    0    0    0    0    0   ...    0.9492  0.0020   \n",
       "3   ?  0.5714    0    0    0    1    0    0    0    0   ...    0.9336  0.0017   \n",
       "4   ?  0.2143    0    0    1    0    0    0    0    0   ...    0.9180  0.0025   \n",
       "\n",
       "      731     732  733     734  735     736  737     738  \n",
       "0  0.4783  0.8378    0  0.6701    0  0.0046    0  0.0084  \n",
       "1  0.3478  0.9784    0  0.9485    0  0.0074    0  0.0087  \n",
       "2  0.4348  0.9964    0  0.0000    1  0.0000    1  0.0187  \n",
       "3  0.2609  0.8919    0  0.7938    0  0.0101    0  0.0092  \n",
       "4  0.8261  0.7928    0  0.5911    0  0.0064    0  0.0107  \n",
       "\n",
       "[5 rows x 739 columns]"
      ]
     },
     "execution_count": 8,
     "metadata": {},
     "output_type": "execute_result"
    }
   ],
   "source": [
    "test_df.head()"
   ]
  },
  {
   "cell_type": "markdown",
   "metadata": {},
   "source": [
    "Obtaining data frame size:"
   ]
  },
  {
   "cell_type": "code",
   "execution_count": 9,
   "metadata": {},
   "outputs": [
    {
     "data": {
      "text/plain": [
       "(95000, 739)"
      ]
     },
     "execution_count": 9,
     "metadata": {},
     "output_type": "execute_result"
    }
   ],
   "source": [
    "test_df.shape"
   ]
  },
  {
   "cell_type": "markdown",
   "metadata": {},
   "source": [
    "Data verification for columns using DataFrame information function: all columns (413+325=738) except classifier values are numeric (according to head() and shape functions information)"
   ]
  },
  {
   "cell_type": "code",
   "execution_count": 12,
   "metadata": {},
   "outputs": [
    {
     "name": "stdout",
     "output_type": "stream",
     "text": [
      "<class 'pandas.core.frame.DataFrame'>\n",
      "RangeIndex: 95000 entries, 0 to 94999\n",
      "Columns: 739 entries, 0 to 738\n",
      "dtypes: float64(325), int64(413), object(1)\n",
      "memory usage: 535.6+ MB\n"
     ]
    }
   ],
   "source": [
    "test_df.info()"
   ]
  },
  {
   "cell_type": "markdown",
   "metadata": {},
   "source": [
    "Some general information about columns values (maybe will help us later):"
   ]
  },
  {
   "cell_type": "code",
   "execution_count": 43,
   "metadata": {},
   "outputs": [
    {
     "data": {
      "text/html": [
       "<div>\n",
       "<style scoped>\n",
       "    .dataframe tbody tr th:only-of-type {\n",
       "        vertical-align: middle;\n",
       "    }\n",
       "\n",
       "    .dataframe tbody tr th {\n",
       "        vertical-align: top;\n",
       "    }\n",
       "\n",
       "    .dataframe thead th {\n",
       "        text-align: right;\n",
       "    }\n",
       "</style>\n",
       "<table border=\"1\" class=\"dataframe\">\n",
       "  <thead>\n",
       "    <tr style=\"text-align: right;\">\n",
       "      <th></th>\n",
       "      <th>0</th>\n",
       "      <th>1</th>\n",
       "      <th>2</th>\n",
       "      <th>3</th>\n",
       "      <th>4</th>\n",
       "      <th>5</th>\n",
       "      <th>6</th>\n",
       "      <th>7</th>\n",
       "      <th>8</th>\n",
       "      <th>9</th>\n",
       "      <th>...</th>\n",
       "      <th>729</th>\n",
       "      <th>730</th>\n",
       "      <th>731</th>\n",
       "      <th>732</th>\n",
       "      <th>733</th>\n",
       "      <th>734</th>\n",
       "      <th>735</th>\n",
       "      <th>736</th>\n",
       "      <th>737</th>\n",
       "      <th>738</th>\n",
       "    </tr>\n",
       "  </thead>\n",
       "  <tbody>\n",
       "    <tr>\n",
       "      <th>count</th>\n",
       "      <td>95000</td>\n",
       "      <td>95000.000000</td>\n",
       "      <td>95000.000000</td>\n",
       "      <td>95000.000000</td>\n",
       "      <td>95000.000000</td>\n",
       "      <td>95000.000000</td>\n",
       "      <td>95000.000000</td>\n",
       "      <td>95000.000000</td>\n",
       "      <td>95000.000000</td>\n",
       "      <td>95000.000000</td>\n",
       "      <td>...</td>\n",
       "      <td>95000.000000</td>\n",
       "      <td>95000.000000</td>\n",
       "      <td>95000.000000</td>\n",
       "      <td>95000.000000</td>\n",
       "      <td>95000.000000</td>\n",
       "      <td>95000.000000</td>\n",
       "      <td>95000.000000</td>\n",
       "      <td>95000.000000</td>\n",
       "      <td>95000.000000</td>\n",
       "      <td>95000.000000</td>\n",
       "    </tr>\n",
       "    <tr>\n",
       "      <th>unique</th>\n",
       "      <td>1</td>\n",
       "      <td>NaN</td>\n",
       "      <td>NaN</td>\n",
       "      <td>NaN</td>\n",
       "      <td>NaN</td>\n",
       "      <td>NaN</td>\n",
       "      <td>NaN</td>\n",
       "      <td>NaN</td>\n",
       "      <td>NaN</td>\n",
       "      <td>NaN</td>\n",
       "      <td>...</td>\n",
       "      <td>NaN</td>\n",
       "      <td>NaN</td>\n",
       "      <td>NaN</td>\n",
       "      <td>NaN</td>\n",
       "      <td>NaN</td>\n",
       "      <td>NaN</td>\n",
       "      <td>NaN</td>\n",
       "      <td>NaN</td>\n",
       "      <td>NaN</td>\n",
       "      <td>NaN</td>\n",
       "    </tr>\n",
       "    <tr>\n",
       "      <th>top</th>\n",
       "      <td>?</td>\n",
       "      <td>NaN</td>\n",
       "      <td>NaN</td>\n",
       "      <td>NaN</td>\n",
       "      <td>NaN</td>\n",
       "      <td>NaN</td>\n",
       "      <td>NaN</td>\n",
       "      <td>NaN</td>\n",
       "      <td>NaN</td>\n",
       "      <td>NaN</td>\n",
       "      <td>...</td>\n",
       "      <td>NaN</td>\n",
       "      <td>NaN</td>\n",
       "      <td>NaN</td>\n",
       "      <td>NaN</td>\n",
       "      <td>NaN</td>\n",
       "      <td>NaN</td>\n",
       "      <td>NaN</td>\n",
       "      <td>NaN</td>\n",
       "      <td>NaN</td>\n",
       "      <td>NaN</td>\n",
       "    </tr>\n",
       "    <tr>\n",
       "      <th>freq</th>\n",
       "      <td>95000</td>\n",
       "      <td>NaN</td>\n",
       "      <td>NaN</td>\n",
       "      <td>NaN</td>\n",
       "      <td>NaN</td>\n",
       "      <td>NaN</td>\n",
       "      <td>NaN</td>\n",
       "      <td>NaN</td>\n",
       "      <td>NaN</td>\n",
       "      <td>NaN</td>\n",
       "      <td>...</td>\n",
       "      <td>NaN</td>\n",
       "      <td>NaN</td>\n",
       "      <td>NaN</td>\n",
       "      <td>NaN</td>\n",
       "      <td>NaN</td>\n",
       "      <td>NaN</td>\n",
       "      <td>NaN</td>\n",
       "      <td>NaN</td>\n",
       "      <td>NaN</td>\n",
       "      <td>NaN</td>\n",
       "    </tr>\n",
       "    <tr>\n",
       "      <th>mean</th>\n",
       "      <td>NaN</td>\n",
       "      <td>0.601348</td>\n",
       "      <td>0.427158</td>\n",
       "      <td>0.270295</td>\n",
       "      <td>0.179189</td>\n",
       "      <td>0.086505</td>\n",
       "      <td>0.008053</td>\n",
       "      <td>0.020432</td>\n",
       "      <td>0.000200</td>\n",
       "      <td>0.003495</td>\n",
       "      <td>...</td>\n",
       "      <td>0.894705</td>\n",
       "      <td>0.001748</td>\n",
       "      <td>0.375977</td>\n",
       "      <td>0.904226</td>\n",
       "      <td>0.000021</td>\n",
       "      <td>0.704831</td>\n",
       "      <td>0.104916</td>\n",
       "      <td>0.006656</td>\n",
       "      <td>0.104916</td>\n",
       "      <td>0.012072</td>\n",
       "    </tr>\n",
       "    <tr>\n",
       "      <th>std</th>\n",
       "      <td>NaN</td>\n",
       "      <td>0.244127</td>\n",
       "      <td>0.494668</td>\n",
       "      <td>0.444114</td>\n",
       "      <td>0.383513</td>\n",
       "      <td>0.281110</td>\n",
       "      <td>0.089375</td>\n",
       "      <td>0.141472</td>\n",
       "      <td>0.014141</td>\n",
       "      <td>0.059013</td>\n",
       "      <td>...</td>\n",
       "      <td>0.080102</td>\n",
       "      <td>0.003780</td>\n",
       "      <td>0.173155</td>\n",
       "      <td>0.067406</td>\n",
       "      <td>0.004588</td>\n",
       "      <td>0.266744</td>\n",
       "      <td>0.306446</td>\n",
       "      <td>0.007456</td>\n",
       "      <td>0.306446</td>\n",
       "      <td>0.009492</td>\n",
       "    </tr>\n",
       "    <tr>\n",
       "      <th>min</th>\n",
       "      <td>NaN</td>\n",
       "      <td>0.000000</td>\n",
       "      <td>0.000000</td>\n",
       "      <td>0.000000</td>\n",
       "      <td>0.000000</td>\n",
       "      <td>0.000000</td>\n",
       "      <td>0.000000</td>\n",
       "      <td>0.000000</td>\n",
       "      <td>0.000000</td>\n",
       "      <td>0.000000</td>\n",
       "      <td>...</td>\n",
       "      <td>0.238300</td>\n",
       "      <td>0.000000</td>\n",
       "      <td>0.000000</td>\n",
       "      <td>0.000000</td>\n",
       "      <td>0.000000</td>\n",
       "      <td>0.000000</td>\n",
       "      <td>0.000000</td>\n",
       "      <td>0.000000</td>\n",
       "      <td>0.000000</td>\n",
       "      <td>0.000300</td>\n",
       "    </tr>\n",
       "    <tr>\n",
       "      <th>25%</th>\n",
       "      <td>NaN</td>\n",
       "      <td>0.357100</td>\n",
       "      <td>0.000000</td>\n",
       "      <td>0.000000</td>\n",
       "      <td>0.000000</td>\n",
       "      <td>0.000000</td>\n",
       "      <td>0.000000</td>\n",
       "      <td>0.000000</td>\n",
       "      <td>0.000000</td>\n",
       "      <td>0.000000</td>\n",
       "      <td>...</td>\n",
       "      <td>0.886700</td>\n",
       "      <td>0.001000</td>\n",
       "      <td>0.260900</td>\n",
       "      <td>0.841400</td>\n",
       "      <td>0.000000</td>\n",
       "      <td>0.635700</td>\n",
       "      <td>0.000000</td>\n",
       "      <td>0.002800</td>\n",
       "      <td>0.000000</td>\n",
       "      <td>0.007100</td>\n",
       "    </tr>\n",
       "    <tr>\n",
       "      <th>50%</th>\n",
       "      <td>NaN</td>\n",
       "      <td>0.642900</td>\n",
       "      <td>0.000000</td>\n",
       "      <td>0.000000</td>\n",
       "      <td>0.000000</td>\n",
       "      <td>0.000000</td>\n",
       "      <td>0.000000</td>\n",
       "      <td>0.000000</td>\n",
       "      <td>0.000000</td>\n",
       "      <td>0.000000</td>\n",
       "      <td>...</td>\n",
       "      <td>0.925800</td>\n",
       "      <td>0.001500</td>\n",
       "      <td>0.391300</td>\n",
       "      <td>0.911700</td>\n",
       "      <td>0.000000</td>\n",
       "      <td>0.780100</td>\n",
       "      <td>0.000000</td>\n",
       "      <td>0.005500</td>\n",
       "      <td>0.000000</td>\n",
       "      <td>0.010400</td>\n",
       "    </tr>\n",
       "    <tr>\n",
       "      <th>75%</th>\n",
       "      <td>NaN</td>\n",
       "      <td>0.857100</td>\n",
       "      <td>1.000000</td>\n",
       "      <td>1.000000</td>\n",
       "      <td>0.000000</td>\n",
       "      <td>0.000000</td>\n",
       "      <td>0.000000</td>\n",
       "      <td>0.000000</td>\n",
       "      <td>0.000000</td>\n",
       "      <td>0.000000</td>\n",
       "      <td>...</td>\n",
       "      <td>0.945300</td>\n",
       "      <td>0.002000</td>\n",
       "      <td>0.478300</td>\n",
       "      <td>0.967600</td>\n",
       "      <td>0.000000</td>\n",
       "      <td>0.886600</td>\n",
       "      <td>0.000000</td>\n",
       "      <td>0.009200</td>\n",
       "      <td>0.000000</td>\n",
       "      <td>0.014200</td>\n",
       "    </tr>\n",
       "    <tr>\n",
       "      <th>max</th>\n",
       "      <td>NaN</td>\n",
       "      <td>1.000000</td>\n",
       "      <td>1.000000</td>\n",
       "      <td>1.000000</td>\n",
       "      <td>1.000000</td>\n",
       "      <td>1.000000</td>\n",
       "      <td>1.000000</td>\n",
       "      <td>1.000000</td>\n",
       "      <td>1.000000</td>\n",
       "      <td>1.000000</td>\n",
       "      <td>...</td>\n",
       "      <td>1.000000</td>\n",
       "      <td>1.000000</td>\n",
       "      <td>1.000000</td>\n",
       "      <td>1.000000</td>\n",
       "      <td>1.000000</td>\n",
       "      <td>1.000000</td>\n",
       "      <td>1.000000</td>\n",
       "      <td>0.974300</td>\n",
       "      <td>1.000000</td>\n",
       "      <td>0.649500</td>\n",
       "    </tr>\n",
       "  </tbody>\n",
       "</table>\n",
       "<p>11 rows × 739 columns</p>\n",
       "</div>"
      ],
      "text/plain": [
       "          0             1             2             3             4    \\\n",
       "count   95000  95000.000000  95000.000000  95000.000000  95000.000000   \n",
       "unique      1           NaN           NaN           NaN           NaN   \n",
       "top         ?           NaN           NaN           NaN           NaN   \n",
       "freq    95000           NaN           NaN           NaN           NaN   \n",
       "mean      NaN      0.601348      0.427158      0.270295      0.179189   \n",
       "std       NaN      0.244127      0.494668      0.444114      0.383513   \n",
       "min       NaN      0.000000      0.000000      0.000000      0.000000   \n",
       "25%       NaN      0.357100      0.000000      0.000000      0.000000   \n",
       "50%       NaN      0.642900      0.000000      0.000000      0.000000   \n",
       "75%       NaN      0.857100      1.000000      1.000000      0.000000   \n",
       "max       NaN      1.000000      1.000000      1.000000      1.000000   \n",
       "\n",
       "                 5             6             7             8             9    \\\n",
       "count   95000.000000  95000.000000  95000.000000  95000.000000  95000.000000   \n",
       "unique           NaN           NaN           NaN           NaN           NaN   \n",
       "top              NaN           NaN           NaN           NaN           NaN   \n",
       "freq             NaN           NaN           NaN           NaN           NaN   \n",
       "mean        0.086505      0.008053      0.020432      0.000200      0.003495   \n",
       "std         0.281110      0.089375      0.141472      0.014141      0.059013   \n",
       "min         0.000000      0.000000      0.000000      0.000000      0.000000   \n",
       "25%         0.000000      0.000000      0.000000      0.000000      0.000000   \n",
       "50%         0.000000      0.000000      0.000000      0.000000      0.000000   \n",
       "75%         0.000000      0.000000      0.000000      0.000000      0.000000   \n",
       "max         1.000000      1.000000      1.000000      1.000000      1.000000   \n",
       "\n",
       "            ...                729           730           731           732  \\\n",
       "count       ...       95000.000000  95000.000000  95000.000000  95000.000000   \n",
       "unique      ...                NaN           NaN           NaN           NaN   \n",
       "top         ...                NaN           NaN           NaN           NaN   \n",
       "freq        ...                NaN           NaN           NaN           NaN   \n",
       "mean        ...           0.894705      0.001748      0.375977      0.904226   \n",
       "std         ...           0.080102      0.003780      0.173155      0.067406   \n",
       "min         ...           0.238300      0.000000      0.000000      0.000000   \n",
       "25%         ...           0.886700      0.001000      0.260900      0.841400   \n",
       "50%         ...           0.925800      0.001500      0.391300      0.911700   \n",
       "75%         ...           0.945300      0.002000      0.478300      0.967600   \n",
       "max         ...           1.000000      1.000000      1.000000      1.000000   \n",
       "\n",
       "                 733           734           735           736           737  \\\n",
       "count   95000.000000  95000.000000  95000.000000  95000.000000  95000.000000   \n",
       "unique           NaN           NaN           NaN           NaN           NaN   \n",
       "top              NaN           NaN           NaN           NaN           NaN   \n",
       "freq             NaN           NaN           NaN           NaN           NaN   \n",
       "mean        0.000021      0.704831      0.104916      0.006656      0.104916   \n",
       "std         0.004588      0.266744      0.306446      0.007456      0.306446   \n",
       "min         0.000000      0.000000      0.000000      0.000000      0.000000   \n",
       "25%         0.000000      0.635700      0.000000      0.002800      0.000000   \n",
       "50%         0.000000      0.780100      0.000000      0.005500      0.000000   \n",
       "75%         0.000000      0.886600      0.000000      0.009200      0.000000   \n",
       "max         1.000000      1.000000      1.000000      0.974300      1.000000   \n",
       "\n",
       "                 738  \n",
       "count   95000.000000  \n",
       "unique           NaN  \n",
       "top              NaN  \n",
       "freq             NaN  \n",
       "mean        0.012072  \n",
       "std         0.009492  \n",
       "min         0.000300  \n",
       "25%         0.007100  \n",
       "50%         0.010400  \n",
       "75%         0.014200  \n",
       "max         0.649500  \n",
       "\n",
       "[11 rows x 739 columns]"
      ]
     },
     "execution_count": 43,
     "metadata": {},
     "output_type": "execute_result"
    }
   ],
   "source": [
    "test_df.describe(include='all')"
   ]
  },
  {
   "cell_type": "markdown",
   "metadata": {},
   "source": [
    "# 2. Training data split to validation sets and fit it to model"
   ]
  },
  {
   "cell_type": "markdown",
   "metadata": {},
   "source": [
    "Splitting model training data for parameters and classifier:"
   ]
  },
  {
   "cell_type": "code",
   "execution_count": 4,
   "metadata": {},
   "outputs": [],
   "source": [
    "X = train_df.iloc[:, 1:]\n",
    "y = train_df.iloc[:, :1]"
   ]
  },
  {
   "cell_type": "markdown",
   "metadata": {},
   "source": [
    "Result shape verification - nothing was lost:"
   ]
  },
  {
   "cell_type": "code",
   "execution_count": 21,
   "metadata": {},
   "outputs": [
    {
     "data": {
      "text/plain": [
       "((190000, 738), (190000, 1))"
      ]
     },
     "execution_count": 21,
     "metadata": {},
     "output_type": "execute_result"
    }
   ],
   "source": [
    "X.shape, y.shape"
   ]
  },
  {
   "cell_type": "markdown",
   "metadata": {},
   "source": [
    "Splitting model training data on the random base:\n",
    "- the first sample - for model training with khown classifier value (70% of original population) \n",
    "- the second sample - for model testing (30% of original population)\n",
    "\n",
    "Classifier values will be predicted for the second sample by model trained on the base of first sample.\n",
    "Prediction will be compared with classifier data from the second sample"
   ]
  },
  {
   "cell_type": "code",
   "execution_count": 5,
   "metadata": {},
   "outputs": [],
   "source": [
    "X_train, X_test, y_train, y_test = train_test_split(X, y, test_size = 0.3, random_state=17)"
   ]
  },
  {
   "cell_type": "markdown",
   "metadata": {},
   "source": [
    "# 2.1. Logistic regression model"
   ]
  },
  {
   "cell_type": "markdown",
   "metadata": {},
   "source": [
    "Loading logistic regression model (used when the response variable is categorical in nature):"
   ]
  },
  {
   "cell_type": "code",
   "execution_count": 24,
   "metadata": {},
   "outputs": [],
   "source": [
    "logreg = LogisticRegression()"
   ]
  },
  {
   "cell_type": "markdown",
   "metadata": {},
   "source": [
    "Model evaluation: quantifying the quality of predictions (average success rate of prediction by model on the base 'AUC ROC' scoring metric with cell execution time determination):"
   ]
  },
  {
   "cell_type": "code",
   "execution_count": 25,
   "metadata": {},
   "outputs": [
    {
     "name": "stdout",
     "output_type": "stream",
     "text": [
      "Wall time: 3min 23s\n"
     ]
    },
    {
     "data": {
      "text/plain": [
       "0.6146669742091715"
      ]
     },
     "execution_count": 25,
     "metadata": {},
     "output_type": "execute_result"
    }
   ],
   "source": [
    "%%time\n",
    "np.mean(cross_val_score(logreg, X_train, np.ravel(y_train), scoring='roc_auc', cv = 5))"
   ]
  },
  {
   "cell_type": "markdown",
   "metadata": {},
   "source": [
    "Model evaluation: quantifying the quality of predictions (maximum success rate of prediction by model on the base 'AUC ROC' scoring metric):"
   ]
  },
  {
   "cell_type": "code",
   "execution_count": 26,
   "metadata": {},
   "outputs": [
    {
     "data": {
      "text/plain": [
       "0.6323417054504198"
      ]
     },
     "execution_count": 26,
     "metadata": {},
     "output_type": "execute_result"
    }
   ],
   "source": [
    "logreg.fit(X_train, np.ravel(y_train))\n",
    "roc_auc_score(y_test, logreg.predict_proba(X_test)[:,1])"
   ]
  },
  {
   "cell_type": "markdown",
   "metadata": {},
   "source": [
    "##  2.2. \"Decision tree\" model"
   ]
  },
  {
   "cell_type": "markdown",
   "metadata": {},
   "source": [
    "Loading \"Decision tree\" model with tree depth of 3 (the number of edges from the node to the tree's root node) and randomly generated (training multiple trees in an ensemble learner, where the features and samples are randomly sampled with replacement):"
   ]
  },
  {
   "cell_type": "code",
   "execution_count": 6,
   "metadata": {},
   "outputs": [],
   "source": [
    "tree = DecisionTreeClassifier(max_depth = 3, random_state = 17)"
   ]
  },
  {
   "cell_type": "markdown",
   "metadata": {},
   "source": [
    "Model evaluation: quantifying the quality of predictions (average success rate of prediction by model on the base 'AUC ROC' scoring metric with cell execution time determination):"
   ]
  },
  {
   "cell_type": "code",
   "execution_count": 7,
   "metadata": {},
   "outputs": [
    {
     "name": "stdout",
     "output_type": "stream",
     "text": [
      "Wall time: 43.7 s\n"
     ]
    },
    {
     "data": {
      "text/plain": [
       "0.5950253154124787"
      ]
     },
     "execution_count": 7,
     "metadata": {},
     "output_type": "execute_result"
    }
   ],
   "source": [
    "%%time\n",
    "np.mean(cross_val_score(tree, X_train, y_train, scoring='roc_auc', cv = 5))"
   ]
  },
  {
   "cell_type": "markdown",
   "metadata": {},
   "source": [
    "Model evaluation: quantifying the quality of predictions (maximum success rate of prediction by model on the base 'AUC ROC' scoring metric):"
   ]
  },
  {
   "cell_type": "code",
   "execution_count": 8,
   "metadata": {},
   "outputs": [
    {
     "data": {
      "text/plain": [
       "0.5958749132112721"
      ]
     },
     "execution_count": 8,
     "metadata": {},
     "output_type": "execute_result"
    }
   ],
   "source": [
    "tree.fit(X_train, y_train)\n",
    "roc_auc_score(y_test, tree.predict_proba(X_test)[:,1])"
   ]
  },
  {
   "cell_type": "markdown",
   "metadata": {},
   "source": [
    "Trying to improve quality of predictions by varying tree depth and number of parameters used for model fitting (features number variance led to sharp increase in calculation time):"
   ]
  },
  {
   "cell_type": "code",
   "execution_count": 9,
   "metadata": {},
   "outputs": [
    {
     "name": "stdout",
     "output_type": "stream",
     "text": [
      "Wall time: 26min 29s\n"
     ]
    }
   ],
   "source": [
    "%%time\n",
    "tree_params = {'max_depth': np.arange(2,11)}\n",
    "tree_grid = GridSearchCV(tree, tree_params, scoring='roc_auc', cv = 5, n_jobs=-1)\n",
    "tree_grid.fit(X_train, y_train)"
   ]
  },
  {
   "cell_type": "markdown",
   "metadata": {},
   "source": [
    "Optimized model parameters for better quality of predictions:"
   ]
  },
  {
   "cell_type": "code",
   "execution_count": 10,
   "metadata": {},
   "outputs": [
    {
     "data": {
      "text/plain": [
       "(0.6054853821258431, {'max_depth': 9})"
      ]
     },
     "execution_count": 10,
     "metadata": {},
     "output_type": "execute_result"
    }
   ],
   "source": [
    "tree_grid.best_score_, tree_grid.best_params_"
   ]
  },
  {
   "cell_type": "markdown",
   "metadata": {},
   "source": [
    "New model success rate of prediction by model on the base 'AUC ROC' scoring metric:"
   ]
  },
  {
   "cell_type": "code",
   "execution_count": 11,
   "metadata": {},
   "outputs": [
    {
     "data": {
      "text/plain": [
       "0.602948120463012"
      ]
     },
     "execution_count": 11,
     "metadata": {},
     "output_type": "execute_result"
    }
   ],
   "source": [
    "roc_auc_score(y_test, tree_grid.predict_proba(X_test)[:,1])"
   ]
  },
  {
   "cell_type": "markdown",
   "metadata": {},
   "source": [
    "## 2.3. k-nearest neighbors (kNN) model"
   ]
  },
  {
   "cell_type": "markdown",
   "metadata": {},
   "source": [
    "Loading k-nearest neighbors (kNN) model:"
   ]
  },
  {
   "cell_type": "code",
   "execution_count": 24,
   "metadata": {},
   "outputs": [],
   "source": [
    "kNN = KNeighborsClassifier(n_neighbors=10)"
   ]
  },
  {
   "cell_type": "markdown",
   "metadata": {},
   "source": [
    "Model evaluation: quantifying the quality of predictions (average success rate of prediction by model on the base 'AUC ROC' scoring metric with cell execution time determination, cv is reduced to 2 because of performance):"
   ]
  },
  {
   "cell_type": "code",
   "execution_count": null,
   "metadata": {},
   "outputs": [],
   "source": [
    "%%time\n",
    "np.mean(cross_val_score(kNN, X_train, np.ravel(y_train), scoring='roc_auc', cv = 2))"
   ]
  },
  {
   "cell_type": "markdown",
   "metadata": {},
   "source": [
    "Model evaluation: quantifying the quality of predictions (maximum success rate of prediction by model on the base 'AUC ROC' scoring metric):"
   ]
  },
  {
   "cell_type": "code",
   "execution_count": null,
   "metadata": {},
   "outputs": [],
   "source": [
    "kNN.fit(X_train, np.ravel(y_train))\n",
    "roc_auc_score(y_test, kNN.predict_proba(X_test)[:,1])"
   ]
  },
  {
   "cell_type": "markdown",
   "metadata": {},
   "source": [
    "Trying to improve quality of predictions by varying number of neighbors used for model fitting (using all performance that we have):"
   ]
  },
  {
   "cell_type": "code",
   "execution_count": null,
   "metadata": {},
   "outputs": [],
   "source": [
    "kNN_params = dict(n_neighbors=list(range(5, 21, 5)))\n",
    "kNN_grid = GridSearchCV(kNN, kNN_params, cv=2, scoring='roc_auc', n_jobs = -1)\n",
    "kNN_grid.fit(X_train, np.ravel(y_train))"
   ]
  },
  {
   "cell_type": "markdown",
   "metadata": {},
   "source": [
    "Optimized model parameters for better quality of predictions:"
   ]
  },
  {
   "cell_type": "code",
   "execution_count": null,
   "metadata": {},
   "outputs": [],
   "source": [
    "kNN_grid.best_score_, kNN_grid.best_params_"
   ]
  },
  {
   "cell_type": "markdown",
   "metadata": {},
   "source": [
    "New model success rate of prediction by model on the base 'AUC ROC' scoring metric:"
   ]
  },
  {
   "cell_type": "code",
   "execution_count": null,
   "metadata": {},
   "outputs": [],
   "source": [
    "roc_auc_score(y_test, kNN_grid.predict_proba(X_test)[:,1])"
   ]
  },
  {
   "cell_type": "markdown",
   "metadata": {},
   "source": [
    "## 2.4. Random forest model"
   ]
  },
  {
   "cell_type": "markdown",
   "metadata": {},
   "source": [
    "Loading \"Random forest\" model (differ from decision forest because it aggregates many decision trees to limit overfitting as well as error due to bias):"
   ]
  },
  {
   "cell_type": "code",
   "execution_count": 6,
   "metadata": {},
   "outputs": [],
   "source": [
    "RFC = RandomForestClassifier(max_depth = 3, random_state = 17)"
   ]
  },
  {
   "cell_type": "markdown",
   "metadata": {},
   "source": [
    "Model evaluation: quantifying the quality of predictions (average success rate of prediction by model on the base 'AUC ROC' scoring metric with cell execution time determination):"
   ]
  },
  {
   "cell_type": "code",
   "execution_count": 7,
   "metadata": {},
   "outputs": [
    {
     "name": "stdout",
     "output_type": "stream",
     "text": [
      "Wall time: 27.5 s\n"
     ]
    },
    {
     "data": {
      "text/plain": [
       "0.6053606581959252"
      ]
     },
     "execution_count": 7,
     "metadata": {},
     "output_type": "execute_result"
    }
   ],
   "source": [
    "%%time\n",
    "np.mean(cross_val_score(RFC, X_train, np.ravel(y_train), scoring='roc_auc', cv = 5))"
   ]
  },
  {
   "cell_type": "markdown",
   "metadata": {},
   "source": [
    "Trying to improve quality of predictions by varying tree depth and number of parameters used for model fitting (using all performance that we have):"
   ]
  },
  {
   "cell_type": "code",
   "execution_count": 8,
   "metadata": {},
   "outputs": [
    {
     "name": "stdout",
     "output_type": "stream",
     "text": [
      "Wall time: 1h 32min 23s\n"
     ]
    }
   ],
   "source": [
    "%%time\n",
    "RFC_params = {'max_depth': np.arange(2,11), 'max_features': np.arange(246,739,246)}\n",
    "RFC_grid = GridSearchCV(RFC, RFC_params, scoring='roc_auc', cv = 5, n_jobs=-1)\n",
    "RFC_grid.fit(X_train, np.ravel(y_train))"
   ]
  },
  {
   "cell_type": "markdown",
   "metadata": {},
   "source": [
    "Optimized model parameters for better quality of predictions:"
   ]
  },
  {
   "cell_type": "code",
   "execution_count": 9,
   "metadata": {},
   "outputs": [
    {
     "data": {
      "text/plain": [
       "(0.6369491328386508, {'max_depth': 10, 'max_features': 246})"
      ]
     },
     "execution_count": 9,
     "metadata": {},
     "output_type": "execute_result"
    }
   ],
   "source": [
    "RFC_grid.best_score_, RFC_grid.best_params_"
   ]
  },
  {
   "cell_type": "markdown",
   "metadata": {},
   "source": [
    "New model success rate of prediction by model on the base 'AUC ROC' scoring metric:"
   ]
  },
  {
   "cell_type": "code",
   "execution_count": 10,
   "metadata": {},
   "outputs": [
    {
     "data": {
      "text/plain": [
       "0.6366162757425133"
      ]
     },
     "execution_count": 10,
     "metadata": {},
     "output_type": "execute_result"
    }
   ],
   "source": [
    "roc_auc_score(y_test, RFC_grid.predict_proba(X_test)[:,1])"
   ]
  },
  {
   "cell_type": "markdown",
   "metadata": {},
   "source": [
    "Another predictions' quality improvement round by varying tree depth and number of parameters used for model fitting (using all performance that we have):"
   ]
  },
  {
   "cell_type": "code",
   "execution_count": 11,
   "metadata": {},
   "outputs": [
    {
     "name": "stdout",
     "output_type": "stream",
     "text": [
      "Wall time: 3h 19min 2s\n"
     ]
    }
   ],
   "source": [
    "%%time\n",
    "RFC_params = {'max_depth': np.arange(10,41, 5), 'max_features': np.arange(246,739,246)}\n",
    "RFC_grid = GridSearchCV(RFC, RFC_params, scoring='roc_auc', cv = 5, n_jobs=-1)\n",
    "RFC_grid.fit(X_train, np.ravel(y_train))"
   ]
  },
  {
   "cell_type": "code",
   "execution_count": 12,
   "metadata": {},
   "outputs": [
    {
     "data": {
      "text/plain": [
       "(0.8035262212549641, {'max_depth': 40, 'max_features': 246})"
      ]
     },
     "execution_count": 12,
     "metadata": {},
     "output_type": "execute_result"
    }
   ],
   "source": [
    "RFC_grid.best_score_, RFC_grid.best_params_"
   ]
  },
  {
   "cell_type": "markdown",
   "metadata": {},
   "source": [
    "New model success rate of prediction by model on the base 'AUC ROC' scoring metric:"
   ]
  },
  {
   "cell_type": "code",
   "execution_count": 13,
   "metadata": {},
   "outputs": [
    {
     "data": {
      "text/plain": [
       "0.875427106305873"
      ]
     },
     "execution_count": 13,
     "metadata": {},
     "output_type": "execute_result"
    }
   ],
   "source": [
    "roc_auc_score(y_test, RFC_grid.predict_proba(X_test)[:,1])"
   ]
  },
  {
   "cell_type": "markdown",
   "metadata": {},
   "source": [
    "# 3. Classifier values prediction for model with maximum AUC ROC "
   ]
  },
  {
   "cell_type": "markdown",
   "metadata": {},
   "source": [
    "Random forest model was selected to finally predict classifier values:"
   ]
  },
  {
   "cell_type": "code",
   "execution_count": 16,
   "metadata": {},
   "outputs": [],
   "source": [
    "predictions = RFC_grid.predict(test_df.iloc[:, 1:])"
   ]
  },
  {
   "cell_type": "markdown",
   "metadata": {},
   "source": [
    "Prediction results were unloaded to csv file:"
   ]
  },
  {
   "cell_type": "code",
   "execution_count": 17,
   "metadata": {},
   "outputs": [],
   "source": [
    "pd.DataFrame(predictions).to_csv('result.сsv', header = None, index = False)"
   ]
  }
 ],
 "metadata": {
  "kernelspec": {
   "display_name": "Python 3",
   "language": "python",
   "name": "python3"
  },
  "language_info": {
   "codemirror_mode": {
    "name": "ipython",
    "version": 3
   },
   "file_extension": ".py",
   "mimetype": "text/x-python",
   "name": "python",
   "nbconvert_exporter": "python",
   "pygments_lexer": "ipython3",
   "version": "3.7.0"
  }
 },
 "nbformat": 4,
 "nbformat_minor": 2
}
